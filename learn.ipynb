{
 "cells": [
  {
   "cell_type": "code",
   "execution_count": 15,
   "id": "082548e6-094a-4cb6-837b-729d3c5a263f",
   "metadata": {},
   "outputs": [],
   "source": [
    "import numpy as np"
   ]
  },
  {
   "cell_type": "code",
   "execution_count": 16,
   "id": "29e8daf0-649a-4568-9bf2-07c5fb637830",
   "metadata": {},
   "outputs": [],
   "source": [
    "pylist = list(range(1000))"
   ]
  },
  {
   "cell_type": "code",
   "execution_count": 17,
   "id": "e14990d6-da51-41ef-a628-5769f5168649",
   "metadata": {},
   "outputs": [],
   "source": [
    "nparray = np.arange(1000)"
   ]
  },
  {
   "cell_type": "code",
   "execution_count": 18,
   "id": "989f3194-f2e7-4762-bc19-383dff7aaf34",
   "metadata": {},
   "outputs": [
    {
     "name": "stdout",
     "output_type": "stream",
     "text": [
      "[0, 1, 2, 3, 4, 5, 6, 7, 8, 9, 10, 11, 12, 13, 14, 15, 16, 17, 18, 19]\n"
     ]
    }
   ],
   "source": [
    "print(pylist[:20])"
   ]
  },
  {
   "cell_type": "code",
   "execution_count": 19,
   "id": "86ef0629-b059-4e25-9789-f1a83a7490e5",
   "metadata": {},
   "outputs": [
    {
     "name": "stdout",
     "output_type": "stream",
     "text": [
      "[ 0  1  2  3  4  5  6  7  8  9 10 11 12 13 14 15 16 17 18 19]\n"
     ]
    }
   ],
   "source": [
    "print(nparray[:20])"
   ]
  },
  {
   "cell_type": "code",
   "execution_count": 20,
   "id": "d1e83961-3a68-4cf4-a65d-44c9ac080406",
   "metadata": {},
   "outputs": [
    {
     "name": "stdout",
     "output_type": "stream",
     "text": [
      "CPU times: user 5.48 ms, sys: 40 μs, total: 5.52 ms\n",
      "Wall time: 5.3 ms\n"
     ]
    }
   ],
   "source": [
    "%time for _ in range(100) : [item*3 for item in pylist]"
   ]
  },
  {
   "cell_type": "code",
   "execution_count": 22,
   "id": "f4f0bb38-e1ba-4763-b94b-d273daee6cbf",
   "metadata": {},
   "outputs": [
    {
     "name": "stdout",
     "output_type": "stream",
     "text": [
      "CPU times: user 1.9 ms, sys: 1.81 ms, total: 3.71 ms\n",
      "Wall time: 2.56 ms\n"
     ]
    }
   ],
   "source": [
    "%time for _ in range(100) : nparray = nparray*3"
   ]
  },
  {
   "cell_type": "code",
   "execution_count": 24,
   "id": "5e81c18f-6b81-4893-8dec-a73c0a265be2",
   "metadata": {},
   "outputs": [],
   "source": [
    "mat=np.zeros((2,5))"
   ]
  },
  {
   "cell_type": "code",
   "execution_count": 25,
   "id": "4381f4ea-1b61-4b32-b2c5-d277e968c00f",
   "metadata": {},
   "outputs": [
    {
     "data": {
      "text/plain": [
       "array([[0., 0., 0., 0., 0.],\n",
       "       [0., 0., 0., 0., 0.]])"
      ]
     },
     "execution_count": 25,
     "metadata": {},
     "output_type": "execute_result"
    }
   ],
   "source": [
    "mat"
   ]
  },
  {
   "cell_type": "code",
   "execution_count": 39,
   "id": "e7f5e752-5017-4711-9ab3-7a92a6c8a164",
   "metadata": {},
   "outputs": [
    {
     "data": {
      "text/plain": [
       "dtype('float64')"
      ]
     },
     "execution_count": 39,
     "metadata": {},
     "output_type": "execute_result"
    }
   ],
   "source": [
    "mat.dtype"
   ]
  },
  {
   "cell_type": "code",
   "execution_count": 40,
   "id": "63a1b140-1413-47a6-a2ab-480758b990d1",
   "metadata": {},
   "outputs": [],
   "source": [
    "mat1=np.ones((2,5))"
   ]
  },
  {
   "cell_type": "code",
   "execution_count": 41,
   "id": "26cd7297-cca0-4603-94a8-393ec68dcf95",
   "metadata": {},
   "outputs": [
    {
     "data": {
      "text/plain": [
       "array([[1., 1., 1., 1., 1.],\n",
       "       [1., 1., 1., 1., 1.]])"
      ]
     },
     "execution_count": 41,
     "metadata": {},
     "output_type": "execute_result"
    }
   ],
   "source": [
    "mat1"
   ]
  },
  {
   "cell_type": "code",
   "execution_count": 42,
   "id": "9b2ba17d-acff-4b46-9df8-45fa061e21fd",
   "metadata": {},
   "outputs": [],
   "source": [
    "mat3=np.empty((4,5))\n"
   ]
  },
  {
   "cell_type": "code",
   "execution_count": 43,
   "id": "26caa9ef-634f-4c36-a9be-03ead6f649bb",
   "metadata": {},
   "outputs": [
    {
     "data": {
      "text/plain": [
       "array([[3.60519386e-315, 0.00000000e+000, 0.00000000e+000,\n",
       "        2.50521045e-292, 4.35468375e-282],\n",
       "       [1.13254994e-017, 0.00000000e+000, 0.00000000e+000,\n",
       "        1.23452218e-123, 0.00000000e+000],\n",
       "       [0.00000000e+000, 5.30697755e-313, 5.68922526e-013,\n",
       "        1.92664875e-157, 3.72849093e-008],\n",
       "       [1.93447287e-157, 1.60137455e+002, 1.06401622e+007,\n",
       "        1.81606340e-287, 4.32105981e-306]])"
      ]
     },
     "execution_count": 43,
     "metadata": {},
     "output_type": "execute_result"
    }
   ],
   "source": [
    "mat3"
   ]
  },
  {
   "cell_type": "markdown",
   "id": "ceb0dae0-6cfb-4410-a2d5-3401552a0746",
   "metadata": {},
   "source": [
    "# playing with array"
   ]
  },
  {
   "cell_type": "code",
   "execution_count": 60,
   "id": "097039f5-6181-412b-8ce6-173f86dfaa92",
   "metadata": {},
   "outputs": [],
   "source": [
    "arr2=np.array([3,4,6,7,12,3])"
   ]
  },
  {
   "cell_type": "code",
   "execution_count": 61,
   "id": "a3f8f71f-daeb-4ea1-9089-47db5e0da267",
   "metadata": {},
   "outputs": [
    {
     "data": {
      "text/plain": [
       "array([ 3,  4,  6,  7, 12,  3])"
      ]
     },
     "execution_count": 61,
     "metadata": {},
     "output_type": "execute_result"
    }
   ],
   "source": [
    "arr2"
   ]
  },
  {
   "cell_type": "code",
   "execution_count": 62,
   "id": "9d27f34f-a43c-406c-8998-3ed7e7dafffb",
   "metadata": {},
   "outputs": [],
   "source": [
    "arr=arr2[4:6]"
   ]
  },
  {
   "cell_type": "code",
   "execution_count": 63,
   "id": "22e9c909-7e10-4bab-9443-2993df0e4686",
   "metadata": {},
   "outputs": [
    {
     "data": {
      "text/plain": [
       "array([12,  3])"
      ]
     },
     "execution_count": 63,
     "metadata": {},
     "output_type": "execute_result"
    }
   ],
   "source": [
    "arr"
   ]
  },
  {
   "cell_type": "markdown",
   "id": "e2fbce30-75f4-4bed-8a41-416e0d9371ca",
   "metadata": {},
   "source": [
    "I changed array but array 2 got changed cz its being interpreted in c (as numpy is coded in c) and c had pointers and arr is not a copy but an instance of arr2."
   ]
  },
  {
   "cell_type": "code",
   "execution_count": 64,
   "id": "a211eb2c-c2c7-46ca-ab60-f4ac1175e930",
   "metadata": {},
   "outputs": [],
   "source": [
    "arr[0]=9"
   ]
  },
  {
   "cell_type": "code",
   "execution_count": 65,
   "id": "7065ab0a-1297-4b4b-8e98-a44e2805bd5e",
   "metadata": {},
   "outputs": [
    {
     "data": {
      "text/plain": [
       "array([3, 4, 6, 7, 9, 3])"
      ]
     },
     "execution_count": 65,
     "metadata": {},
     "output_type": "execute_result"
    }
   ],
   "source": [
    "arr2"
   ]
  },
  {
   "cell_type": "code",
   "execution_count": 66,
   "id": "a61c2d9a-fc84-4ca8-a58e-d0e6c15a7350",
   "metadata": {},
   "outputs": [],
   "source": [
    "arr3=arr2[4:6].copy()"
   ]
  },
  {
   "cell_type": "code",
   "execution_count": 67,
   "id": "14e59e34-8f14-435a-8fb6-aa478e5b3db2",
   "metadata": {},
   "outputs": [
    {
     "data": {
      "text/plain": [
       "array([9, 3])"
      ]
     },
     "execution_count": 67,
     "metadata": {},
     "output_type": "execute_result"
    }
   ],
   "source": [
    "arr3"
   ]
  },
  {
   "cell_type": "code",
   "execution_count": 68,
   "id": "8ed5d8da-1824-4cca-aa67-a67d1e938192",
   "metadata": {},
   "outputs": [],
   "source": [
    "arr3[0]=9"
   ]
  },
  {
   "cell_type": "code",
   "execution_count": 69,
   "id": "d3f46a7e-928a-4912-9052-370092be1158",
   "metadata": {},
   "outputs": [
    {
     "data": {
      "text/plain": [
       "array([9, 3])"
      ]
     },
     "execution_count": 69,
     "metadata": {},
     "output_type": "execute_result"
    }
   ],
   "source": [
    "arr3"
   ]
  },
  {
   "cell_type": "code",
   "execution_count": null,
   "id": "ab3ffda5-88a3-4fab-b8cb-56f32a997d51",
   "metadata": {},
   "outputs": [],
   "source": []
  }
 ],
 "metadata": {
  "kernelspec": {
   "display_name": "Python 3 (ipykernel)",
   "language": "python",
   "name": "python3"
  },
  "language_info": {
   "codemirror_mode": {
    "name": "ipython",
    "version": 3
   },
   "file_extension": ".py",
   "mimetype": "text/x-python",
   "name": "python",
   "nbconvert_exporter": "python",
   "pygments_lexer": "ipython3",
   "version": "3.12.8"
  }
 },
 "nbformat": 4,
 "nbformat_minor": 5
}
