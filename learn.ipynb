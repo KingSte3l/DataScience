{
 "cells": [
  {
   "cell_type": "code",
   "execution_count": 1,
   "id": "082548e6-094a-4cb6-837b-729d3c5a263f",
   "metadata": {},
   "outputs": [],
   "source": [
    "import numpy as np"
   ]
  },
  {
   "cell_type": "code",
   "execution_count": 2,
   "id": "29e8daf0-649a-4568-9bf2-07c5fb637830",
   "metadata": {},
   "outputs": [],
   "source": [
    "pylist = list(range(1000))"
   ]
  },
  {
   "cell_type": "code",
   "execution_count": 3,
   "id": "e14990d6-da51-41ef-a628-5769f5168649",
   "metadata": {},
   "outputs": [],
   "source": [
    "nparray = np.arange(1000)"
   ]
  },
  {
   "cell_type": "code",
   "execution_count": 4,
   "id": "989f3194-f2e7-4762-bc19-383dff7aaf34",
   "metadata": {},
   "outputs": [
    {
     "name": "stdout",
     "output_type": "stream",
     "text": [
      "[0, 1, 2, 3, 4, 5, 6, 7, 8, 9, 10, 11, 12, 13, 14, 15, 16, 17, 18, 19]\n"
     ]
    }
   ],
   "source": [
    "print(pylist[:20])"
   ]
  },
  {
   "cell_type": "code",
   "execution_count": 5,
   "id": "86ef0629-b059-4e25-9789-f1a83a7490e5",
   "metadata": {},
   "outputs": [
    {
     "name": "stdout",
     "output_type": "stream",
     "text": [
      "[ 0  1  2  3  4  5  6  7  8  9 10 11 12 13 14 15 16 17 18 19]\n"
     ]
    }
   ],
   "source": [
    "print(nparray[:20])"
   ]
  },
  {
   "cell_type": "code",
   "execution_count": 6,
   "id": "d1e83961-3a68-4cf4-a65d-44c9ac080406",
   "metadata": {},
   "outputs": [
    {
     "name": "stdout",
     "output_type": "stream",
     "text": [
      "CPU times: user 1.34 ms, sys: 0 ns, total: 1.34 ms\n",
      "Wall time: 1.35 ms\n"
     ]
    }
   ],
   "source": [
    "%time for _ in range(100) : [item*3 for item in pylist]"
   ]
  },
  {
   "cell_type": "code",
   "execution_count": 7,
   "id": "f4f0bb38-e1ba-4763-b94b-d273daee6cbf",
   "metadata": {},
   "outputs": [
    {
     "name": "stdout",
     "output_type": "stream",
     "text": [
      "CPU times: user 301 μs, sys: 52 μs, total: 353 μs\n",
      "Wall time: 437 μs\n"
     ]
    }
   ],
   "source": [
    "%time for _ in range(100) : nparray = nparray*3"
   ]
  },
  {
   "cell_type": "code",
   "execution_count": 8,
   "id": "5e81c18f-6b81-4893-8dec-a73c0a265be2",
   "metadata": {},
   "outputs": [],
   "source": [
    "mat=np.zeros((2,5))"
   ]
  },
  {
   "cell_type": "code",
   "execution_count": 9,
   "id": "4381f4ea-1b61-4b32-b2c5-d277e968c00f",
   "metadata": {},
   "outputs": [
    {
     "data": {
      "text/plain": [
       "array([[0., 0., 0., 0., 0.],\n",
       "       [0., 0., 0., 0., 0.]])"
      ]
     },
     "execution_count": 9,
     "metadata": {},
     "output_type": "execute_result"
    }
   ],
   "source": [
    "mat"
   ]
  },
  {
   "cell_type": "code",
   "execution_count": 10,
   "id": "e7f5e752-5017-4711-9ab3-7a92a6c8a164",
   "metadata": {},
   "outputs": [
    {
     "data": {
      "text/plain": [
       "dtype('float64')"
      ]
     },
     "execution_count": 10,
     "metadata": {},
     "output_type": "execute_result"
    }
   ],
   "source": [
    "mat.dtype"
   ]
  },
  {
   "cell_type": "code",
   "execution_count": 11,
   "id": "63a1b140-1413-47a6-a2ab-480758b990d1",
   "metadata": {},
   "outputs": [],
   "source": [
    "mat1=np.ones((2,5))"
   ]
  },
  {
   "cell_type": "code",
   "execution_count": 12,
   "id": "26cd7297-cca0-4603-94a8-393ec68dcf95",
   "metadata": {},
   "outputs": [
    {
     "data": {
      "text/plain": [
       "array([[1., 1., 1., 1., 1.],\n",
       "       [1., 1., 1., 1., 1.]])"
      ]
     },
     "execution_count": 12,
     "metadata": {},
     "output_type": "execute_result"
    }
   ],
   "source": [
    "mat1"
   ]
  },
  {
   "cell_type": "code",
   "execution_count": 13,
   "id": "9b2ba17d-acff-4b46-9df8-45fa061e21fd",
   "metadata": {},
   "outputs": [],
   "source": [
    "mat3=np.empty((4,5))\n"
   ]
  },
  {
   "cell_type": "code",
   "execution_count": 14,
   "id": "26caa9ef-634f-4c36-a9be-03ead6f649bb",
   "metadata": {},
   "outputs": [
    {
     "data": {
      "text/plain": [
       "array([[4.71119676e-316, 0.00000000e+000, 1.17360744e-236,\n",
       "        5.18741137e-313, 5.57615717e-279],\n",
       "       [4.65203811e+151, 2.95526650e-287, 1.15549302e-313,\n",
       "        3.40062557e-309, 1.33360335e+241],\n",
       "       [1.21929878e-310, 3.06836125e+257, 2.00414576e-312,\n",
       "        1.81706500e-310, 5.32929927e-256],\n",
       "       [2.50923972e-212, 4.16534737e-275, 6.76499388e-292,\n",
       "        2.02633254e-315, 2.64480772e+180]])"
      ]
     },
     "execution_count": 14,
     "metadata": {},
     "output_type": "execute_result"
    }
   ],
   "source": [
    "mat3"
   ]
  },
  {
   "cell_type": "markdown",
   "id": "ceb0dae0-6cfb-4410-a2d5-3401552a0746",
   "metadata": {},
   "source": [
    "# playing with array, slicing"
   ]
  },
  {
   "cell_type": "code",
   "execution_count": 15,
   "id": "097039f5-6181-412b-8ce6-173f86dfaa92",
   "metadata": {},
   "outputs": [],
   "source": [
    "arr2=np.array([3,4,6,7,12,3])"
   ]
  },
  {
   "cell_type": "code",
   "execution_count": 16,
   "id": "a3f8f71f-daeb-4ea1-9089-47db5e0da267",
   "metadata": {},
   "outputs": [
    {
     "data": {
      "text/plain": [
       "array([ 3,  4,  6,  7, 12,  3])"
      ]
     },
     "execution_count": 16,
     "metadata": {},
     "output_type": "execute_result"
    }
   ],
   "source": [
    "arr2"
   ]
  },
  {
   "cell_type": "code",
   "execution_count": 17,
   "id": "9d27f34f-a43c-406c-8998-3ed7e7dafffb",
   "metadata": {},
   "outputs": [],
   "source": [
    "arr=arr2[4:6]"
   ]
  },
  {
   "cell_type": "code",
   "execution_count": 18,
   "id": "22e9c909-7e10-4bab-9443-2993df0e4686",
   "metadata": {},
   "outputs": [
    {
     "data": {
      "text/plain": [
       "array([12,  3])"
      ]
     },
     "execution_count": 18,
     "metadata": {},
     "output_type": "execute_result"
    }
   ],
   "source": [
    "arr"
   ]
  },
  {
   "cell_type": "markdown",
   "id": "e2fbce30-75f4-4bed-8a41-416e0d9371ca",
   "metadata": {},
   "source": [
    "I changed array but array 2 got changed cz its being interpreted in c (as numpy is coded in c) and c had pointers and arr is not a copy but an instance of arr2."
   ]
  },
  {
   "cell_type": "code",
   "execution_count": 19,
   "id": "a211eb2c-c2c7-46ca-ab60-f4ac1175e930",
   "metadata": {},
   "outputs": [],
   "source": [
    "arr[0]=9"
   ]
  },
  {
   "cell_type": "code",
   "execution_count": 20,
   "id": "7065ab0a-1297-4b4b-8e98-a44e2805bd5e",
   "metadata": {},
   "outputs": [
    {
     "data": {
      "text/plain": [
       "array([3, 4, 6, 7, 9, 3])"
      ]
     },
     "execution_count": 20,
     "metadata": {},
     "output_type": "execute_result"
    }
   ],
   "source": [
    "arr2"
   ]
  },
  {
   "cell_type": "code",
   "execution_count": 21,
   "id": "a61c2d9a-fc84-4ca8-a58e-d0e6c15a7350",
   "metadata": {},
   "outputs": [],
   "source": [
    "arr3=arr2[4:6].copy()"
   ]
  },
  {
   "cell_type": "code",
   "execution_count": 22,
   "id": "14e59e34-8f14-435a-8fb6-aa478e5b3db2",
   "metadata": {},
   "outputs": [
    {
     "data": {
      "text/plain": [
       "array([9, 3])"
      ]
     },
     "execution_count": 22,
     "metadata": {},
     "output_type": "execute_result"
    }
   ],
   "source": [
    "arr3"
   ]
  },
  {
   "cell_type": "code",
   "execution_count": 23,
   "id": "8ed5d8da-1824-4cca-aa67-a67d1e938192",
   "metadata": {},
   "outputs": [],
   "source": [
    "arr3[0]=9"
   ]
  },
  {
   "cell_type": "code",
   "execution_count": 24,
   "id": "d3f46a7e-928a-4912-9052-370092be1158",
   "metadata": {},
   "outputs": [
    {
     "data": {
      "text/plain": [
       "array([9, 3])"
      ]
     },
     "execution_count": 24,
     "metadata": {},
     "output_type": "execute_result"
    }
   ],
   "source": [
    "arr3"
   ]
  },
  {
   "cell_type": "markdown",
   "id": "daa8a136-f45a-47d2-8bc4-2a6b7fc75993",
   "metadata": {},
   "source": [
    "# axing sorting"
   ]
  },
  {
   "cell_type": "markdown",
   "id": "bcffb6e6-e325-4c72-8875-9b41f6d1dd3e",
   "metadata": {},
   "source": [
    "numpy has two axis 0 and 1 "
   ]
  },
  {
   "cell_type": "markdown",
   "id": "056f32dd-2b7a-44f3-8159-1843931c426d",
   "metadata": {},
   "source": [
    "0 being y axis and 1 being x (or 0 vertical and 1 horizontal)"
   ]
  },
  {
   "cell_type": "code",
   "execution_count": 26,
   "id": "9e22156e-3d82-4401-b608-b2ae00bc454e",
   "metadata": {},
   "outputs": [],
   "source": [
    "a = np.array([[1,3,6],\n",
    "             [7,12,34]])"
   ]
  },
  {
   "cell_type": "code",
   "execution_count": 27,
   "id": "a3a54bfb-27c6-4165-8030-7abb810aead3",
   "metadata": {},
   "outputs": [
    {
     "data": {
      "text/plain": [
       "array([ 8, 15, 40])"
      ]
     },
     "execution_count": 27,
     "metadata": {},
     "output_type": "execute_result"
    }
   ],
   "source": [
    "a.sum(axis = 0)"
   ]
  },
  {
   "cell_type": "code",
   "execution_count": 28,
   "id": "10981151-21f4-43bd-96cc-917b95fb0c0d",
   "metadata": {},
   "outputs": [],
   "source": [
    "b = np.array([[12,22,45],\n",
    "              [54,66,73]])"
   ]
  },
  {
   "cell_type": "code",
   "execution_count": 29,
   "id": "6464246b-ed39-4968-b820-445df8a937d6",
   "metadata": {},
   "outputs": [
    {
     "data": {
      "text/plain": [
       "array([[    3,    27,   -14],\n",
       "       [-1368,  1325,  -186]])"
      ]
     },
     "execution_count": 29,
     "metadata": {},
     "output_type": "execute_result"
    }
   ],
   "source": [
    "np.cross(a,b)"
   ]
  },
  {
   "cell_type": "code",
   "execution_count": 32,
   "id": "54def388-b193-49fd-8a56-2ee1d11efd43",
   "metadata": {},
   "outputs": [
    {
     "data": {
      "text/plain": [
       "array([[ 348,  690],\n",
       "       [1878, 3652]])"
      ]
     },
     "execution_count": 32,
     "metadata": {},
     "output_type": "execute_result"
    }
   ],
   "source": [
    "np.dot(a,b.transpose())"
   ]
  },
  {
   "cell_type": "code",
   "execution_count": 47,
   "id": "e01f2143-8df3-48ac-92e9-5dad0e867c62",
   "metadata": {},
   "outputs": [
    {
     "name": "stdout",
     "output_type": "stream",
     "text": [
      "CPU times: user 143 μs, sys: 18 μs, total: 161 μs\n",
      "Wall time: 166 μs\n"
     ]
    },
    {
     "data": {
      "text/plain": [
       "array([[-1368,    27,  -186],\n",
       "       [    3,  1325,   -14]])"
      ]
     },
     "execution_count": 47,
     "metadata": {},
     "output_type": "execute_result"
    }
   ],
   "source": [
    "%%time\n",
    "np.sort((np.cross(a,b)), (axis := 0),kind = 'mergesort')"
   ]
  },
  {
   "cell_type": "code",
   "execution_count": 48,
   "id": "46954bb3-6657-4a12-b735-692cfa906f0e",
   "metadata": {},
   "outputs": [
    {
     "name": "stdout",
     "output_type": "stream",
     "text": [
      "CPU times: user 60 μs, sys: 8 μs, total: 68 μs\n",
      "Wall time: 69.4 μs\n"
     ]
    },
    {
     "data": {
      "text/plain": [
       "array([[-1368,    27,  -186],\n",
       "       [    3,  1325,   -14]])"
      ]
     },
     "execution_count": 48,
     "metadata": {},
     "output_type": "execute_result"
    }
   ],
   "source": [
    "%%time\n",
    "np.sort((np.cross(a,b)), (axis := 0),kind = 'qicksort')"
   ]
  },
  {
   "cell_type": "code",
   "execution_count": 49,
   "id": "2c1eefbc-3487-4d23-af08-b2c0d0ba56b6",
   "metadata": {},
   "outputs": [
    {
     "name": "stdout",
     "output_type": "stream",
     "text": [
      "CPU times: user 90 μs, sys: 12 μs, total: 102 μs\n",
      "Wall time: 105 μs\n"
     ]
    },
    {
     "data": {
      "text/plain": [
       "array([[-1368,    27,  -186],\n",
       "       [    3,  1325,   -14]])"
      ]
     },
     "execution_count": 49,
     "metadata": {},
     "output_type": "execute_result"
    }
   ],
   "source": [
    "%%time\n",
    "np.sort((np.cross(a,b)), (axis := 0),kind = 'heapsort')"
   ]
  },
  {
   "cell_type": "markdown",
   "id": "866cb16f-6953-4f7d-a093-51947da6654d",
   "metadata": {},
   "source": [
    "# arrange and argsort"
   ]
  },
  {
   "cell_type": "code",
   "execution_count": null,
   "id": "b921e225-10b5-41cf-a14c-cac279ae0a45",
   "metadata": {},
   "outputs": [],
   "source": []
  }
 ],
 "metadata": {
  "kernelspec": {
   "display_name": "Python 3 (ipykernel)",
   "language": "python",
   "name": "python3"
  },
  "language_info": {
   "codemirror_mode": {
    "name": "ipython",
    "version": 3
   },
   "file_extension": ".py",
   "mimetype": "text/x-python",
   "name": "python",
   "nbconvert_exporter": "python",
   "pygments_lexer": "ipython3",
   "version": "3.12.8"
  }
 },
 "nbformat": 4,
 "nbformat_minor": 5
}
